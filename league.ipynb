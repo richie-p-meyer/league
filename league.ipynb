{
 "cells": [
  {
   "cell_type": "code",
   "execution_count": 1,
   "id": "4becc1b9",
   "metadata": {},
   "outputs": [],
   "source": [
    "import pandas as pd\n",
    "import numpy as np\n",
    "import os\n",
    "import requests\n"
   ]
  },
  {
   "cell_type": "code",
   "execution_count": 2,
   "id": "5971b65e",
   "metadata": {},
   "outputs": [],
   "source": [
    "# Downloads the updated csv for the 2023 season\n",
    "import gdown\n",
    "\n",
    "def update_df():\n",
    "    '''\n",
    "    Download most recent csv file, concat with rest of data, return the full df\n",
    "    '''\n",
    "    output = \"lol_2023.csv\" #What to save the downloaded file as\n",
    "    id = \"1XXk2LO0CsNADBB1LRGOV5rUpyZdEZ8s2\" #The id from the google drive file\n",
    "    gdown.download(id=id, output=output, quiet=False)\n",
    "    \n",
    "    df_2021 = pd.read_csv('lol_2021.csv')\n",
    "    df_2022 = pd.read_csv('lol_2022.csv')\n",
    "    df_2023 = pd.read_csv('lol_2023.csv')\n",
    "    df = pd.concat([df_2021,df_2022,df_2023])\n",
    "    return df\n",
    "\n",
    "def get_wiki():\n",
    "    '''\n",
    "    Returns chart from wikipedia containing info for Tier 1 and Tier 2 leagues\n",
    "    Returns tier1, tier2\n",
    "    '''\n",
    "    wiki = pd.read_html('https://en.wikipedia.org/wiki/List_of_League_of_Legends_leagues_and_tournaments')\n",
    "    return wiki[1], wiki[3]\n",
    "\n",
    "def wrangle_df(df):\n",
    "    leagues = ['LCK','LPL','LEC','LCS','PCS','VCS','CBLOL','LJL','LLA'] # These are my 9 tier 1 leagues that I'll keep\n",
    "    \n",
    "    df = df[df.league.isin(leagues)]\n",
    "    df = df[df.position=='team']\n",
    "\n",
    "    cols = ['teamname','league', 'year', 'date', 'game', 'side', 'gamelength', 'result', 'teamkills', \n",
    "            'teamdeaths', 'firstblood', 'position', 'dragons', 'barons', 'opp_barons','towers', 'opp_towers', \n",
    "            'inhibitors', 'opp_inhibitors', 'damagetochampions', 'damagetakenperminute', 'wardsplaced', 'wardskilled', \n",
    "            'controlwardsbought', 'totalgold', 'gspd', 'monsterkills']\n",
    "\n",
    "    df = df[cols]\n",
    "    df = df.dropna()\n",
    "    df.to_csv('final.csv')\n",
    "    \n",
    "    return df\n",
    "    "
   ]
  },
  {
   "cell_type": "code",
   "execution_count": 3,
   "id": "246b2dc0",
   "metadata": {},
   "outputs": [
    {
     "name": "stderr",
     "output_type": "stream",
     "text": [
      "Downloading...\n",
      "From: https://drive.google.com/uc?id=1XXk2LO0CsNADBB1LRGOV5rUpyZdEZ8s2\n",
      "To: /Users/thegootch/codeup-data-science/league/lol_2023.csv\n",
      "100%|██████████████████████████████████████| 8.73M/8.73M [00:00<00:00, 14.9MB/s]\n",
      "/var/folders/fz/0282wvb93rn0lm_p0nscw1sm0000gn/T/ipykernel_72471/1236272213.py:1: DtypeWarning: Columns (2) have mixed types.Specify dtype option on import or set low_memory=False.\n",
      "  df = update_df()\n"
     ]
    }
   ],
   "source": [
    "df = update_df()\n",
    "df = wrangle_df(df)"
   ]
  },
  {
   "cell_type": "code",
   "execution_count": 4,
   "id": "c106b1f8",
   "metadata": {},
   "outputs": [],
   "source": [
    "df = pd.read_csv('final.csv')"
   ]
  },
  {
   "cell_type": "code",
   "execution_count": null,
   "id": "61635bb3",
   "metadata": {},
   "outputs": [],
   "source": []
  },
  {
   "cell_type": "code",
   "execution_count": null,
   "id": "03571592",
   "metadata": {},
   "outputs": [],
   "source": []
  }
 ],
 "metadata": {
  "kernelspec": {
   "display_name": "Python 3 (ipykernel)",
   "language": "python",
   "name": "python3"
  },
  "language_info": {
   "codemirror_mode": {
    "name": "ipython",
    "version": 3
   },
   "file_extension": ".py",
   "mimetype": "text/x-python",
   "name": "python",
   "nbconvert_exporter": "python",
   "pygments_lexer": "ipython3",
   "version": "3.9.7"
  }
 },
 "nbformat": 4,
 "nbformat_minor": 5
}
